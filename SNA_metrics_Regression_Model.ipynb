{
  "nbformat": 4,
  "nbformat_minor": 0,
  "metadata": {
    "colab": {
      "provenance": [],
      "authorship_tag": "ABX9TyNBPm0hwaleuQbSasSKUQUt",
      "include_colab_link": true
    },
    "kernelspec": {
      "name": "python3",
      "display_name": "Python 3"
    },
    "language_info": {
      "name": "python"
    }
  },
  "cells": [
    {
      "cell_type": "markdown",
      "metadata": {
        "id": "view-in-github",
        "colab_type": "text"
      },
      "source": [
        "<a href=\"https://colab.research.google.com/github/DrNelsonJatel/Testing-Social-Network-Metrics/blob/main/SNA_metrics_Regression_Model.ipynb\" target=\"_parent\"><img src=\"https://colab.research.google.com/assets/colab-badge.svg\" alt=\"Open In Colab\"/></a>"
      ]
    },
    {
      "cell_type": "code",
      "execution_count": 6,
      "metadata": {
        "colab": {
          "base_uri": "https://localhost:8080/"
        },
        "id": "YIR1CdX6w6r3",
        "outputId": "f34a770c-683f-4988-ea4a-7739b167de7d"
      },
      "outputs": [
        {
          "output_type": "stream",
          "name": "stdout",
          "text": [
            "\n",
            "📊 Publication-ready multi-model regression table:\n",
            "\n",
            "========================================================\n",
            "                       Collaboration  Equity  Resilience\n",
            "--------------------------------------------------------\n",
            "const                  0.00          0.00     -0.00     \n",
            "                       (0.06)        (0.06)   (0.05)    \n",
            "Reciprocity            0.33***       0.08     -0.03     \n",
            "                       (0.07)        (0.07)   (0.06)    \n",
            "Transitivity           0.28***       -0.17**  -0.04     \n",
            "                       (0.07)        (0.08)   (0.06)    \n",
            "Gini_Degree            0.24***       -0.74*** -0.06     \n",
            "                       (0.06)        (0.06)   (0.05)    \n",
            "K_Core                 -0.02         0.07     0.62***   \n",
            "                       (0.07)        (0.07)   (0.06)    \n",
            "Betweenness_Centrality 0.16**        -0.10    0.38***   \n",
            "                       (0.07)        (0.08)   (0.07)    \n",
            "Modularity             0.16**        0.00     0.05      \n",
            "                       (0.06)        (0.07)   (0.06)    \n",
            "Density                0.11*         -0.02    -0.04     \n",
            "                       (0.06)        (0.06)   (0.05)    \n",
            "Clustering_Coefficient -0.05         -0.05    0.09      \n",
            "                       (0.06)        (0.07)   (0.06)    \n",
            "Tie_Diversity          0.35***       -0.09    0.13**    \n",
            "                       (0.07)        (0.07)   (0.06)    \n",
            "R-squared              0.72          0.68     0.78      \n",
            "R-squared Adj.         0.69          0.65     0.75      \n",
            "N                      100           100      100       \n",
            "R²                     0.72          0.68     0.78      \n",
            "========================================================\n",
            "Standard errors in parentheses.\n",
            "* p<.1, ** p<.05, ***p<.01\n"
          ]
        }
      ],
      "source": [
        "import pandas as pd\n",
        "import numpy as np\n",
        "import statsmodels.api as sm\n",
        "from sklearn.preprocessing import StandardScaler\n",
        "from statsmodels.iolib.summary2 import summary_col\n",
        "\n",
        "# ---------------------------\n",
        "# LOAD & CLEAN DATA\n",
        "# ---------------------------\n",
        "df = pd.read_excel('final_extended_synthetic_governance_dataset.xlsx')\n",
        "\n",
        "# Clean column names\n",
        "df.columns = [col.strip().replace(\" \", \"_\").replace(\"(\", \"\").replace(\")\", \"\").replace(\"-\", \"_\") for col in df.columns]\n",
        "\n",
        "# ---------------------------\n",
        "# DEFINE VARIABLES\n",
        "# ---------------------------\n",
        "predictors = ['Reciprocity', 'Transitivity', 'Gini_Degree', 'K_Core',\n",
        "              'Betweenness_Centrality', 'Modularity', 'Density',\n",
        "              'Clustering_Coefficient', 'Tie_Diversity']\n",
        "outcomes = ['Collaboration_Score', 'Equity_Score', 'Resilience_Score']\n",
        "\n",
        "# ---------------------------\n",
        "# STANDARDIZE DATA\n",
        "# ---------------------------\n",
        "scaler = StandardScaler()\n",
        "df_scaled = pd.DataFrame(scaler.fit_transform(df[predictors + outcomes]),\n",
        "                         columns=predictors + outcomes)\n",
        "\n",
        "# ---------------------------\n",
        "# RUN MULTIPLE MODELS\n",
        "# ---------------------------\n",
        "models = []\n",
        "for outcome in outcomes:\n",
        "    X = sm.add_constant(df_scaled[predictors])\n",
        "    y = df_scaled[outcome]\n",
        "    model = sm.OLS(y, X).fit()\n",
        "    models.append(model)\n",
        "\n",
        "# ---------------------------\n",
        "# CREATE SUMMARY TABLE\n",
        "# ---------------------------\n",
        "summary = summary_col(models,\n",
        "                      stars=True,\n",
        "                      float_format='%0.2f',\n",
        "                      model_names=['Collaboration', 'Equity', 'Resilience'],\n",
        "                      info_dict={'R²': lambda x: f\"{x.rsquared:.2f}\",\n",
        "                                 'N': lambda x: f\"{int(x.nobs)}\"})\n",
        "\n",
        "# ---------------------------\n",
        "# OUTPUT FOR PUBLICATION\n",
        "# ---------------------------\n",
        "print(\"\\n📊 Publication-ready multi-model regression table:\")\n",
        "print(summary)\n",
        "\n",
        "# OPTIONAL: export to LaTeX or HTML for direct manuscript inclusion\n",
        "with open(\"Regression_Model_Summary.tex\", \"w\") as f:\n",
        "    f.write(summary.as_latex())\n",
        "\n",
        "with open(\"Regression_Model_Summary.html\", \"w\") as f:\n",
        "    f.write(summary.as_html())\n"
      ]
    }
  ]
}